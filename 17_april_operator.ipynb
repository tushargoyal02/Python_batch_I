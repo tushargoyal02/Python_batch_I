{
 "cells": [
  {
   "cell_type": "code",
   "execution_count": 3,
   "id": "ca244595",
   "metadata": {},
   "outputs": [
    {
     "name": "stdout",
     "output_type": "stream",
     "text": [
      "<class 'float'>\n"
     ]
    }
   ],
   "source": [
    "x=10.0\n",
    "\n",
    "print( type(x) )"
   ]
  },
  {
   "cell_type": "code",
   "execution_count": 4,
   "id": "1ffc0812",
   "metadata": {},
   "outputs": [
    {
     "name": "stdout",
     "output_type": "stream",
     "text": [
      "<class 'str'>\n"
     ]
    }
   ],
   "source": [
    "city=\"Jaipur\"\n",
    "print(type(city))"
   ]
  },
  {
   "cell_type": "code",
   "execution_count": 6,
   "id": "20afea2a",
   "metadata": {},
   "outputs": [
    {
     "ename": "NameError",
     "evalue": "name 'y' is not defined",
     "output_type": "error",
     "traceback": [
      "\u001b[1;31m---------------------------------------------------------------------------\u001b[0m",
      "\u001b[1;31mNameError\u001b[0m                                 Traceback (most recent call last)",
      "Cell \u001b[1;32mIn[6], line 1\u001b[0m\n\u001b[1;32m----> 1\u001b[0m \u001b[38;5;28mprint\u001b[39m(\u001b[43my\u001b[49m)\n",
      "\u001b[1;31mNameError\u001b[0m: name 'y' is not defined"
     ]
    }
   ],
   "source": [
    "print(y)"
   ]
  },
  {
   "cell_type": "code",
   "execution_count": null,
   "id": "efe9bb00",
   "metadata": {},
   "outputs": [],
   "source": []
  },
  {
   "cell_type": "code",
   "execution_count": 7,
   "id": "f734cb16",
   "metadata": {},
   "outputs": [
    {
     "name": "stdout",
     "output_type": "stream",
     "text": [
      "my age is 100\n"
     ]
    }
   ],
   "source": [
    "age=100\n",
    "print(\"my age is\",age)"
   ]
  },
  {
   "cell_type": "code",
   "execution_count": 11,
   "id": "f0312b3c",
   "metadata": {},
   "outputs": [
    {
     "name": "stdout",
     "output_type": "stream",
     "text": [
      "my 100 is 100\n"
     ]
    }
   ],
   "source": [
    "age=100\n",
    "print( f\"my {age} is {age}\")"
   ]
  },
  {
   "cell_type": "code",
   "execution_count": null,
   "id": "570cf005",
   "metadata": {},
   "outputs": [],
   "source": [
    "# call by value  & call by reference"
   ]
  },
  {
   "cell_type": "code",
   "execution_count": 12,
   "id": "e50f3779",
   "metadata": {},
   "outputs": [
    {
     "name": "stdout",
     "output_type": "stream",
     "text": [
      "2075572178224\n"
     ]
    }
   ],
   "source": [
    "x=99\n",
    "print(id(x))"
   ]
  },
  {
   "cell_type": "code",
   "execution_count": 13,
   "id": "a6c7783f",
   "metadata": {},
   "outputs": [
    {
     "name": "stdout",
     "output_type": "stream",
     "text": [
      "2075572178224\n"
     ]
    }
   ],
   "source": [
    "# passing data throguh call by reference\n",
    "y=x\n",
    "print(id(y))"
   ]
  },
  {
   "cell_type": "code",
   "execution_count": 14,
   "id": "f1a6cf11",
   "metadata": {},
   "outputs": [
    {
     "name": "stdout",
     "output_type": "stream",
     "text": [
      "99\n"
     ]
    }
   ],
   "source": [
    "print(x)"
   ]
  },
  {
   "cell_type": "code",
   "execution_count": 15,
   "id": "c0cac97e",
   "metadata": {},
   "outputs": [
    {
     "name": "stdout",
     "output_type": "stream",
     "text": [
      "99\n"
     ]
    }
   ],
   "source": [
    "print(y)"
   ]
  },
  {
   "cell_type": "code",
   "execution_count": 18,
   "id": "1de7e4cf",
   "metadata": {},
   "outputs": [
    {
     "name": "stdout",
     "output_type": "stream",
     "text": [
      "X: 2075572177616 Y: 2075572177616\n"
     ]
    }
   ],
   "source": [
    "x=80\n",
    "y=x\n",
    "\n",
    "print(\"X:\",id(x) , \"Y:\", id(y))"
   ]
  },
  {
   "cell_type": "code",
   "execution_count": 20,
   "id": "bbd48d68",
   "metadata": {},
   "outputs": [
    {
     "name": "stdout",
     "output_type": "stream",
     "text": [
      "2075572175696 x: 2075572177616\n"
     ]
    }
   ],
   "source": [
    "y=20\n",
    "print(id(y), \"x:\",id(x))"
   ]
  },
  {
   "cell_type": "code",
   "execution_count": 21,
   "id": "86b36645",
   "metadata": {},
   "outputs": [],
   "source": [
    "# operators\n",
    "# symbols => operator \n",
    "\n",
    "# Arithmetic\n",
    "# logical\n",
    "# assignment\n",
    "# comparison\n",
    "# memberhsip\n",
    "# bitiwise\n",
    "# identity"
   ]
  },
  {
   "cell_type": "code",
   "execution_count": 22,
   "id": "58b378ed",
   "metadata": {},
   "outputs": [],
   "source": [
    "# arithmetic\n",
    "\n",
    "# int x=1    , print(++x)  , print(x++)\n",
    "# x++   => x operand  => unary operator\n",
    "\n",
    "# binary operator  =>   x+y"
   ]
  },
  {
   "cell_type": "code",
   "execution_count": 23,
   "id": "999d11d2",
   "metadata": {},
   "outputs": [
    {
     "data": {
      "text/plain": [
       "30"
      ]
     },
     "execution_count": 23,
     "metadata": {},
     "output_type": "execute_result"
    }
   ],
   "source": [
    "#arithmetic\n",
    "\n",
    "10+20"
   ]
  },
  {
   "cell_type": "code",
   "execution_count": 27,
   "id": "80c753a8",
   "metadata": {},
   "outputs": [
    {
     "data": {
      "text/plain": [
       "4.0"
      ]
     },
     "execution_count": 27,
     "metadata": {},
     "output_type": "execute_result"
    }
   ],
   "source": [
    "12/3"
   ]
  },
  {
   "cell_type": "code",
   "execution_count": 28,
   "id": "bef44f6a",
   "metadata": {},
   "outputs": [
    {
     "data": {
      "text/plain": [
       "3"
      ]
     },
     "execution_count": 28,
     "metadata": {},
     "output_type": "execute_result"
    }
   ],
   "source": [
    "# floor division\n",
    "10//3"
   ]
  },
  {
   "cell_type": "code",
   "execution_count": 30,
   "id": "492e5c4e",
   "metadata": {},
   "outputs": [
    {
     "data": {
      "text/plain": [
       "16"
      ]
     },
     "execution_count": 30,
     "metadata": {},
     "output_type": "execute_result"
    }
   ],
   "source": [
    "# + - * /  //   ,  ** ( exponent / power) , % ( modulus)\n",
    "2**4\n",
    "# 2*2*2*2"
   ]
  },
  {
   "cell_type": "code",
   "execution_count": 35,
   "id": "17344845",
   "metadata": {},
   "outputs": [
    {
     "data": {
      "text/plain": [
       "6.0"
      ]
     },
     "execution_count": 35,
     "metadata": {},
     "output_type": "execute_result"
    }
   ],
   "source": [
    "1.0 + 5"
   ]
  },
  {
   "cell_type": "code",
   "execution_count": 36,
   "id": "bdf8d4b5",
   "metadata": {},
   "outputs": [
    {
     "data": {
      "text/plain": [
       "18.0"
      ]
     },
     "execution_count": 36,
     "metadata": {},
     "output_type": "execute_result"
    }
   ],
   "source": [
    "1+2*3/3*5+7"
   ]
  },
  {
   "cell_type": "code",
   "execution_count": 37,
   "id": "a71ab339",
   "metadata": {},
   "outputs": [
    {
     "data": {
      "text/plain": [
       "'\\n**\\n* / //  %   ( left to right)\\n+   -\\n\\n'"
      ]
     },
     "execution_count": 37,
     "metadata": {},
     "output_type": "execute_result"
    }
   ],
   "source": [
    "'''\n",
    "**\n",
    "* / //  %   ( left to right)\n",
    "+   -\n",
    "\n",
    "'''"
   ]
  },
  {
   "cell_type": "code",
   "execution_count": 38,
   "id": "29446b15",
   "metadata": {},
   "outputs": [
    {
     "data": {
      "text/plain": [
       "86"
      ]
     },
     "execution_count": 38,
     "metadata": {},
     "output_type": "execute_result"
    }
   ],
   "source": [
    "5+2*6**2-4//7+9"
   ]
  },
  {
   "cell_type": "code",
   "execution_count": null,
   "id": "74fb5b4e",
   "metadata": {},
   "outputs": [],
   "source": [
    "#5+72-4//7+9\n",
    "#5+72+9"
   ]
  },
  {
   "cell_type": "code",
   "execution_count": 40,
   "id": "9a9275ad",
   "metadata": {},
   "outputs": [],
   "source": [
    "# comparison operator   => return boolean value\n",
    "x=10"
   ]
  },
  {
   "cell_type": "code",
   "execution_count": 43,
   "id": "c08740a8",
   "metadata": {},
   "outputs": [
    {
     "data": {
      "text/plain": [
       "False"
      ]
     },
     "execution_count": 43,
     "metadata": {},
     "output_type": "execute_result"
    }
   ],
   "source": [
    "x>10\n",
    "\n",
    "# >  ,  <  , >=,   <=  , != , =="
   ]
  },
  {
   "cell_type": "code",
   "execution_count": 45,
   "id": "f3dd6b93",
   "metadata": {},
   "outputs": [
    {
     "name": "stdout",
     "output_type": "stream",
     "text": [
      "25\n"
     ]
    }
   ],
   "source": [
    "# assignment operator\n",
    "y=10\n",
    "\n",
    "x=y+15\n",
    "print(x)"
   ]
  },
  {
   "cell_type": "code",
   "execution_count": 47,
   "id": "944ada5e",
   "metadata": {},
   "outputs": [
    {
     "name": "stdout",
     "output_type": "stream",
     "text": [
      "25\n"
     ]
    }
   ],
   "source": [
    "x=10\n",
    "x += 15\n",
    "print(x)"
   ]
  },
  {
   "cell_type": "code",
   "execution_count": 49,
   "id": "37b012eb",
   "metadata": {},
   "outputs": [
    {
     "name": "stdout",
     "output_type": "stream",
     "text": [
      "100\n"
     ]
    }
   ],
   "source": [
    "age=10\n",
    "# age = age**2\n",
    "age **=2\n",
    "print(age)"
   ]
  },
  {
   "cell_type": "code",
   "execution_count": 51,
   "id": "bd38d187",
   "metadata": {},
   "outputs": [
    {
     "name": "stdout",
     "output_type": "stream",
     "text": [
      "0\n"
     ]
    }
   ],
   "source": [
    "y=1782\n",
    "# 1+7+8+2  => 18\n",
    "\n",
    "y %=3\n",
    "print(y)"
   ]
  },
  {
   "cell_type": "code",
   "execution_count": 52,
   "id": "f38b3dac",
   "metadata": {},
   "outputs": [],
   "source": [
    "# +=  ,-=,  /=,  //= , **=, %="
   ]
  },
  {
   "cell_type": "code",
   "execution_count": 53,
   "id": "9893f2b8",
   "metadata": {},
   "outputs": [
    {
     "data": {
      "text/plain": [
       "True"
      ]
     },
     "execution_count": 53,
     "metadata": {},
     "output_type": "execute_result"
    }
   ],
   "source": [
    "# logical operator\n",
    "x=99\n",
    "x==99"
   ]
  },
  {
   "cell_type": "code",
   "execution_count": 54,
   "id": "dcef4e80",
   "metadata": {},
   "outputs": [
    {
     "data": {
      "text/plain": [
       "True"
      ]
     },
     "execution_count": 54,
     "metadata": {},
     "output_type": "execute_result"
    }
   ],
   "source": [
    "y=88\n",
    "y>80"
   ]
  },
  {
   "cell_type": "code",
   "execution_count": 57,
   "id": "c43ab0e3",
   "metadata": {},
   "outputs": [
    {
     "data": {
      "text/plain": [
       "False"
      ]
     },
     "execution_count": 57,
     "metadata": {},
     "output_type": "execute_result"
    }
   ],
   "source": [
    "x==99  and  y>90"
   ]
  },
  {
   "cell_type": "code",
   "execution_count": 63,
   "id": "f8483755",
   "metadata": {},
   "outputs": [
    {
     "data": {
      "text/plain": [
       "False"
      ]
     },
     "execution_count": 63,
     "metadata": {},
     "output_type": "execute_result"
    }
   ],
   "source": [
    "x=199\n",
    "y=88\n",
    "age=18\n",
    "\n",
    "x==99  or  y>90 or age<18"
   ]
  },
  {
   "cell_type": "code",
   "execution_count": 64,
   "id": "1cdc9b36",
   "metadata": {},
   "outputs": [
    {
     "data": {
      "text/plain": [
       "False"
      ]
     },
     "execution_count": 64,
     "metadata": {},
     "output_type": "execute_result"
    }
   ],
   "source": [
    "not True"
   ]
  },
  {
   "cell_type": "code",
   "execution_count": 66,
   "id": "a89591c0",
   "metadata": {},
   "outputs": [
    {
     "data": {
      "text/plain": [
       "True"
      ]
     },
     "execution_count": 66,
     "metadata": {},
     "output_type": "execute_result"
    }
   ],
   "source": [
    "not(False)"
   ]
  },
  {
   "cell_type": "code",
   "execution_count": null,
   "id": "67730d5b",
   "metadata": {},
   "outputs": [],
   "source": [
    "\n"
   ]
  },
  {
   "cell_type": "code",
   "execution_count": 67,
   "id": "f78db5d2",
   "metadata": {},
   "outputs": [],
   "source": [
    "x=10"
   ]
  },
  {
   "cell_type": "code",
   "execution_count": null,
   "id": "5be39d40",
   "metadata": {},
   "outputs": [],
   "source": []
  },
  {
   "cell_type": "code",
   "execution_count": 71,
   "id": "4fc78763",
   "metadata": {},
   "outputs": [
    {
     "data": {
      "text/plain": [
       "True"
      ]
     },
     "execution_count": 71,
     "metadata": {},
     "output_type": "execute_result"
    }
   ],
   "source": [
    "not False"
   ]
  },
  {
   "cell_type": "code",
   "execution_count": 72,
   "id": "b30154c6",
   "metadata": {},
   "outputs": [],
   "source": [
    "x=10"
   ]
  },
  {
   "cell_type": "code",
   "execution_count": 73,
   "id": "046d62b8",
   "metadata": {},
   "outputs": [],
   "source": [
    "X=\"a\""
   ]
  },
  {
   "cell_type": "code",
   "execution_count": 74,
   "id": "83489eec",
   "metadata": {},
   "outputs": [
    {
     "data": {
      "text/plain": [
       "10"
      ]
     },
     "execution_count": 74,
     "metadata": {},
     "output_type": "execute_result"
    }
   ],
   "source": [
    "x"
   ]
  },
  {
   "cell_type": "code",
   "execution_count": 75,
   "id": "dcdf3c2a",
   "metadata": {},
   "outputs": [
    {
     "data": {
      "text/plain": [
       "'a'"
      ]
     },
     "execution_count": 75,
     "metadata": {},
     "output_type": "execute_result"
    }
   ],
   "source": [
    "X"
   ]
  },
  {
   "cell_type": "code",
   "execution_count": 78,
   "id": "2329550b",
   "metadata": {},
   "outputs": [
    {
     "data": {
      "text/plain": [
       "False"
      ]
     },
     "execution_count": 78,
     "metadata": {},
     "output_type": "execute_result"
    }
   ],
   "source": [
    "# membership operator   in  not in\n",
    "\n",
    "\"y\" in \"Jaipur\""
   ]
  },
  {
   "cell_type": "code",
   "execution_count": 80,
   "id": "a2b18d23",
   "metadata": {},
   "outputs": [
    {
     "data": {
      "text/plain": [
       "True"
      ]
     },
     "execution_count": 80,
     "metadata": {},
     "output_type": "execute_result"
    }
   ],
   "source": [
    "\"y\" not in \"Jaipur\""
   ]
  },
  {
   "cell_type": "code",
   "execution_count": 81,
   "id": "6caced38",
   "metadata": {},
   "outputs": [
    {
     "data": {
      "text/plain": [
       "False"
      ]
     },
     "execution_count": 81,
     "metadata": {},
     "output_type": "execute_result"
    }
   ],
   "source": [
    "\"a\" not in \"Jaipur\""
   ]
  }
 ],
 "metadata": {
  "kernelspec": {
   "display_name": "Python 3 (ipykernel)",
   "language": "python",
   "name": "python3"
  },
  "language_info": {
   "codemirror_mode": {
    "name": "ipython",
    "version": 3
   },
   "file_extension": ".py",
   "mimetype": "text/x-python",
   "name": "python",
   "nbconvert_exporter": "python",
   "pygments_lexer": "ipython3",
   "version": "3.10.11"
  }
 },
 "nbformat": 4,
 "nbformat_minor": 5
}
