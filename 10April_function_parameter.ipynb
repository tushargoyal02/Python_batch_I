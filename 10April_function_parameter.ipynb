{
 "cells": [
  {
   "cell_type": "code",
   "execution_count": 1,
   "id": "e8ecd97c",
   "metadata": {},
   "outputs": [],
   "source": [
    "# functions\n"
   ]
  },
  {
   "cell_type": "code",
   "execution_count": 7,
   "id": "09cd6952",
   "metadata": {},
   "outputs": [],
   "source": [
    "def  func(n):\n",
    "    for i in range(1,11):\n",
    "        print(i*n)"
   ]
  },
  {
   "cell_type": "code",
   "execution_count": 8,
   "id": "2383e6ba",
   "metadata": {},
   "outputs": [
    {
     "name": "stdout",
     "output_type": "stream",
     "text": [
      "10\n",
      "20\n",
      "30\n",
      "40\n",
      "50\n",
      "60\n",
      "70\n",
      "80\n",
      "90\n",
      "100\n"
     ]
    }
   ],
   "source": [
    "func(10)"
   ]
  },
  {
   "cell_type": "code",
   "execution_count": 9,
   "id": "8fe9dc04",
   "metadata": {},
   "outputs": [],
   "source": [
    "# type of argument passing"
   ]
  },
  {
   "cell_type": "code",
   "execution_count": 10,
   "id": "ebc53369",
   "metadata": {},
   "outputs": [],
   "source": [
    "def employee(id, name, email):\n",
    "    print(\"Id :\",id, \"Name :\",name,\"Email :\",email)"
   ]
  },
  {
   "cell_type": "code",
   "execution_count": 13,
   "id": "5dc1e9d1",
   "metadata": {},
   "outputs": [
    {
     "name": "stdout",
     "output_type": "stream",
     "text": [
      "Id : 1 Name : tushar Email : tusahr@gmail.com\n"
     ]
    }
   ],
   "source": [
    "# required argument \n",
    "# number of parameter = no of argument\n",
    "employee(1,\"tushar\",\"tusahr@gmail.com\")"
   ]
  },
  {
   "cell_type": "code",
   "execution_count": 16,
   "id": "77ecfbb4",
   "metadata": {},
   "outputs": [
    {
     "name": "stdout",
     "output_type": "stream",
     "text": [
      "Id : 10 Name : tushar Email : tusahr@gmail.com\n"
     ]
    }
   ],
   "source": [
    "def employee(id, name, email):\n",
    "    print(\"Id :\",id, \"Name :\",name,\"Email :\",email)\n",
    "    \n",
    "employee(10,\"tushar\",\"tusahr@gmail.com\")"
   ]
  },
  {
   "cell_type": "code",
   "execution_count": 20,
   "id": "62cdf444",
   "metadata": {},
   "outputs": [
    {
     "name": "stdout",
     "output_type": "stream",
     "text": [
      "Id : tushar Name : 10 Email : tushar@gmail.com\n"
     ]
    }
   ],
   "source": [
    "# positionional argument\n",
    "def employee(id, name, email):\n",
    "    print(\"Id :\",id, \"Name :\",name,\"Email :\",email)\n",
    "    \n",
    "employee(\"tushar\",10,\"tushar@gmail.com\")"
   ]
  },
  {
   "cell_type": "code",
   "execution_count": 26,
   "id": "7db67c27",
   "metadata": {},
   "outputs": [
    {
     "name": "stdout",
     "output_type": "stream",
     "text": [
      "Id : 10 Name : tushar Email : tushar@gmail.com\n"
     ]
    }
   ],
   "source": [
    "# keyword argument\n",
    "def employee(id, name, email):\n",
    "    print(\"Id :\",id, \"Name :\",name,\"Email :\",email)\n",
    "    \n",
    "employee(id=10,email=\"tushar@gmail.com\",name=\"tushar\")"
   ]
  },
  {
   "cell_type": "code",
   "execution_count": 29,
   "id": "455c1e3e",
   "metadata": {},
   "outputs": [
    {
     "name": "stdout",
     "output_type": "stream",
     "text": [
      "Id : 10 Name : tushar Email : tushar@gmail.com\n"
     ]
    }
   ],
   "source": [
    "# positional + keyword\n",
    "# keyword argument\n",
    "def employee(id, name, email):\n",
    "    print(\"Id :\",id, \"Name :\",name,\"Email :\",email)\n",
    "    \n",
    "employee(10,name=\"tushar\",email=\"tushar@gmail.com\")"
   ]
  },
  {
   "cell_type": "code",
   "execution_count": 32,
   "id": "e91df5c7",
   "metadata": {},
   "outputs": [
    {
     "name": "stdout",
     "output_type": "stream",
     "text": [
      "Id : 10 Name : tushar Email : tushar@gmail.com\n"
     ]
    }
   ],
   "source": [
    "# positional + keyword\n",
    "\n",
    "def employee(id, name, email):\n",
    "    print(\"Id :\",id, \"Name :\",name,\"Email :\",email)\n",
    "    \n",
    "employee(10,name=\"tushar\",email=\"tushar@gmail.com\")"
   ]
  },
  {
   "cell_type": "code",
   "execution_count": 34,
   "id": "9ef4e770",
   "metadata": {},
   "outputs": [
    {
     "name": "stdout",
     "output_type": "stream",
     "text": [
      "Id : 10 Name : tushar Email : tushar@gmail.com\n"
     ]
    }
   ],
   "source": [
    "def employee(id, name, email):\n",
    "    print(\"Id :\",id, \"Name :\",name,\"Email :\",email)\n",
    "    \n",
    "employee(10,name=\"tushar\",email=\"tushar@gmail.com\")\n"
   ]
  },
  {
   "cell_type": "code",
   "execution_count": 37,
   "id": "7e3bec1b",
   "metadata": {},
   "outputs": [
    {
     "name": "stdout",
     "output_type": "stream",
     "text": [
      "Id : 10 Name : tushar Email : regexsoftware@gmail.com\n"
     ]
    }
   ],
   "source": [
    "# default argument  -- declaration time pr dete hai\n",
    "def employee(id, name, email=\"regexsoftware@gmail.com\"):\n",
    "    print(\"Id :\",id, \"Name :\",name,\"Email :\",email)\n",
    "    \n",
    "employee(10,name=\"tushar\")\n",
    "\n"
   ]
  },
  {
   "cell_type": "code",
   "execution_count": 39,
   "id": "53b76b45",
   "metadata": {},
   "outputs": [
    {
     "name": "stdout",
     "output_type": "stream",
     "text": [
      "Id : 10 Name : tushar Email : abc@gmail.com\n"
     ]
    }
   ],
   "source": [
    "def employee(id, name, email=\"regexsoftware@gmail.com\"):\n",
    "    print(\"Id :\",id, \"Name :\",name,\"Email :\",email)\n",
    "    \n",
    "employee(10,name=\"tushar\",email=\"abc@gmail.com\")\n"
   ]
  },
  {
   "cell_type": "code",
   "execution_count": 40,
   "id": "b10b39c0",
   "metadata": {},
   "outputs": [
    {
     "name": "stdout",
     "output_type": "stream",
     "text": [
      "Id : 10 Name : tushar Email : abc@gmail.com\n"
     ]
    }
   ],
   "source": [
    "def employee(id, name, email=\"regexsoftware@gmail.com\"):\n",
    "    print(\"Id :\",id, \"Name :\",name,\"Email :\",email)\n",
    "    \n",
    "employee(10,name=\"tushar\",email=\"abc@gmail.com\")\n"
   ]
  },
  {
   "cell_type": "code",
   "execution_count": 42,
   "id": "a19a5ea9",
   "metadata": {},
   "outputs": [],
   "source": [
    "# required\n",
    "# positional \n",
    "# keyword    /  keyword + positional\n",
    "# default\n",
    "\n",
    "# default and (keyword + positional) keyword arg\n",
    "#should be on the right most side\n",
    "\n"
   ]
  },
  {
   "cell_type": "code",
   "execution_count": 45,
   "id": "1c22b16e",
   "metadata": {},
   "outputs": [
    {
     "ename": "TypeError",
     "evalue": "fb() missing 3 required positional arguments: 'college', 'school', and 'salary'",
     "output_type": "error",
     "traceback": [
      "\u001b[1;31m---------------------------------------------------------------------------\u001b[0m",
      "\u001b[1;31mTypeError\u001b[0m                                 Traceback (most recent call last)",
      "Cell \u001b[1;32mIn[45], line 5\u001b[0m\n\u001b[0;32m      1\u001b[0m \u001b[38;5;28;01mdef\u001b[39;00m \u001b[38;5;21mfb\u001b[39m(college,school,salary):\n\u001b[0;32m      2\u001b[0m     \u001b[38;5;28mprint\u001b[39m(college,school)\n\u001b[1;32m----> 5\u001b[0m \u001b[43mfb\u001b[49m\u001b[43m(\u001b[49m\u001b[43m)\u001b[49m\n",
      "\u001b[1;31mTypeError\u001b[0m: fb() missing 3 required positional arguments: 'college', 'school', and 'salary'"
     ]
    }
   ],
   "source": [
    "def fb(college,school,salary):\n",
    "    print(college,school)\n",
    "    \n",
    "\n",
    "fb()"
   ]
  },
  {
   "cell_type": "code",
   "execution_count": 52,
   "id": "ea604106",
   "metadata": {},
   "outputs": [
    {
     "name": "stdout",
     "output_type": "stream",
     "text": [
      "('abc', 10, 2213, 123123, 12312, 312, 312, 312, 3123) <class 'tuple'>\n"
     ]
    }
   ],
   "source": [
    "# variable length argument   ( VVV important)\n",
    "# *var => variable length argument \n",
    "# accept in form of tuple\n",
    "\n",
    "def fb( *x ):\n",
    "    print(x,  type(x))\n",
    "    \n",
    "\n",
    "fb(\"abc\",10,2213,123123,12312,312,312,312,3123)\n"
   ]
  },
  {
   "cell_type": "code",
   "execution_count": 55,
   "id": "19e2e266",
   "metadata": {},
   "outputs": [
    {
     "name": "stdout",
     "output_type": "stream",
     "text": [
      "{'salary': 1201, 'college': 'abc'} <class 'dict'>\n"
     ]
    }
   ],
   "source": [
    "# keyword variable length argument\n",
    "def fb( **kwargs ):\n",
    "    print(kwargs,  type(kwargs))\n",
    "    \n",
    "\n",
    "fb(salary=1201,college=\"abc\")\n"
   ]
  },
  {
   "cell_type": "code",
   "execution_count": 56,
   "id": "deef338a",
   "metadata": {},
   "outputs": [],
   "source": [
    "# *args   &   **kwargs"
   ]
  },
  {
   "cell_type": "code",
   "execution_count": 78,
   "id": "08da1559",
   "metadata": {},
   "outputs": [],
   "source": [
    "# function \n",
    "mylist=[]\n",
    "def func(x):\n",
    "    for i in range(1,x+1):\n",
    "        if(i%2==0):\n",
    "            mylist.append(i)\n",
    "            \n",
    "    return (mylist)\n"
   ]
  },
  {
   "cell_type": "code",
   "execution_count": 82,
   "id": "5e9403e9",
   "metadata": {},
   "outputs": [
    {
     "name": "stdout",
     "output_type": "stream",
     "text": [
      "[2, 4, 6, 8, 10, 2, 4, 6, 8, 10]\n"
     ]
    }
   ],
   "source": [
    "print(func(10))"
   ]
  },
  {
   "cell_type": "code",
   "execution_count": 80,
   "id": "ed8ec22f",
   "metadata": {},
   "outputs": [
    {
     "name": "stdout",
     "output_type": "stream",
     "text": [
      "[2, 4, 6, 8, 10]\n"
     ]
    }
   ],
   "source": [
    "print(x1)"
   ]
  },
  {
   "cell_type": "code",
   "execution_count": 81,
   "id": "8d0c73f5",
   "metadata": {},
   "outputs": [
    {
     "name": "stdout",
     "output_type": "stream",
     "text": [
      "hey [2, 4, 6, 8, 10]\n"
     ]
    }
   ],
   "source": [
    "print(\"hey\",x1)"
   ]
  },
  {
   "cell_type": "code",
   "execution_count": null,
   "id": "d7b85563",
   "metadata": {},
   "outputs": [],
   "source": [
    "\n",
    "\n"
   ]
  }
 ],
 "metadata": {
  "kernelspec": {
   "display_name": "Python 3 (ipykernel)",
   "language": "python",
   "name": "python3"
  },
  "language_info": {
   "codemirror_mode": {
    "name": "ipython",
    "version": 3
   },
   "file_extension": ".py",
   "mimetype": "text/x-python",
   "name": "python",
   "nbconvert_exporter": "python",
   "pygments_lexer": "ipython3",
   "version": "3.10.11"
  }
 },
 "nbformat": 4,
 "nbformat_minor": 5
}
