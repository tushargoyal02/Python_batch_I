{
 "cells": [
  {
   "cell_type": "code",
   "execution_count": 1,
   "id": "515ac096",
   "metadata": {},
   "outputs": [],
   "source": [
    "# dictionary , set"
   ]
  },
  {
   "cell_type": "code",
   "execution_count": 2,
   "id": "75724144",
   "metadata": {},
   "outputs": [],
   "source": [
    "# functions\n",
    "# block of code  => reuse\n",
    "#  name  => named block\n",
    "# for  i in range(1,6)\n"
   ]
  },
  {
   "cell_type": "code",
   "execution_count": 3,
   "id": "3167c728",
   "metadata": {},
   "outputs": [],
   "source": [
    "# code duplicate  => remove"
   ]
  },
  {
   "cell_type": "code",
   "execution_count": 4,
   "id": "a843caf0",
   "metadata": {},
   "outputs": [
    {
     "data": {
      "text/plain": [
       "30"
      ]
     },
     "execution_count": 4,
     "metadata": {},
     "output_type": "execute_result"
    }
   ],
   "source": [
    "x=10\n",
    "y=20\n",
    "x+y"
   ]
  },
  {
   "cell_type": "code",
   "execution_count": 5,
   "id": "865a5510",
   "metadata": {},
   "outputs": [
    {
     "data": {
      "text/plain": [
       "76"
      ]
     },
     "execution_count": 5,
     "metadata": {},
     "output_type": "execute_result"
    }
   ],
   "source": [
    "x=50\n",
    "y=26\n",
    "x+y"
   ]
  },
  {
   "cell_type": "code",
   "execution_count": 6,
   "id": "968750a7",
   "metadata": {},
   "outputs": [],
   "source": [
    "# def  => keyword function declaration"
   ]
  },
  {
   "cell_type": "code",
   "execution_count": 7,
   "id": "792159f2",
   "metadata": {},
   "outputs": [
    {
     "data": {
      "text/plain": [
       "'\\ndef  func():\\n    statement\\n\\n'"
      ]
     },
     "execution_count": 7,
     "metadata": {},
     "output_type": "execute_result"
    }
   ],
   "source": [
    "'''\n",
    "def  func():\n",
    "    statement\n",
    "\n",
    "'''"
   ]
  },
  {
   "cell_type": "code",
   "execution_count": 8,
   "id": "14475c0f",
   "metadata": {},
   "outputs": [],
   "source": [
    "# function declaration\n",
    "def hello():\n",
    "    print(\"hey user\")"
   ]
  },
  {
   "cell_type": "code",
   "execution_count": 12,
   "id": "b4b084e8",
   "metadata": {},
   "outputs": [
    {
     "name": "stdout",
     "output_type": "stream",
     "text": [
      "hey user\n",
      "hey user\n",
      "hey user\n"
     ]
    }
   ],
   "source": [
    "# function call\n",
    "hello()\n",
    "hello()\n",
    "hello()"
   ]
  },
  {
   "cell_type": "code",
   "execution_count": 13,
   "id": "b435becd",
   "metadata": {},
   "outputs": [],
   "source": [
    "# named block\n",
    "# accesibiliy\n",
    "# code reusability\n",
    "# code organize =>  debugging is easy"
   ]
  },
  {
   "cell_type": "code",
   "execution_count": 18,
   "id": "4e0b49aa",
   "metadata": {},
   "outputs": [
    {
     "name": "stdout",
     "output_type": "stream",
     "text": [
      "hey user\n",
      "hey user\n",
      "hey user\n"
     ]
    }
   ],
   "source": [
    "# function declare\n",
    "def  hey():\n",
    "    print(\"hey user\")\n",
    "    \n",
    "# function call\n",
    "hey()\n",
    "hey()\n",
    "hey()"
   ]
  },
  {
   "cell_type": "code",
   "execution_count": null,
   "id": "ea1f4570",
   "metadata": {},
   "outputs": [],
   "source": []
  },
  {
   "cell_type": "code",
   "execution_count": 24,
   "id": "4860099f",
   "metadata": {},
   "outputs": [],
   "source": [
    "# fun(var)  =>  variable  => parameter / formal parameter\n",
    "\n",
    "def greeting(x):\n",
    "    print(\"hey user welcome\",x)"
   ]
  },
  {
   "cell_type": "code",
   "execution_count": 29,
   "id": "62d21c2c",
   "metadata": {},
   "outputs": [
    {
     "name": "stdout",
     "output_type": "stream",
     "text": [
      "hey user welcome tushar\n"
     ]
    }
   ],
   "source": [
    "# tushar => argument\n",
    "greeting(\"tushar\")\n"
   ]
  },
  {
   "cell_type": "code",
   "execution_count": 36,
   "id": "5a0d9f55",
   "metadata": {},
   "outputs": [],
   "source": [
    "# call by object reference\n",
    "def addno(x):\n",
    "    print(x+10)"
   ]
  },
  {
   "cell_type": "code",
   "execution_count": 37,
   "id": "a9a68178",
   "metadata": {},
   "outputs": [
    {
     "name": "stdout",
     "output_type": "stream",
     "text": [
      "30\n"
     ]
    }
   ],
   "source": [
    "addno(20)"
   ]
  },
  {
   "cell_type": "code",
   "execution_count": 42,
   "id": "0c1a71bb",
   "metadata": {},
   "outputs": [],
   "source": [
    "# call by object reference\n",
    "def addno(x):\n",
    "    print(\"x\", id(x))"
   ]
  },
  {
   "cell_type": "code",
   "execution_count": 43,
   "id": "6f07da6b",
   "metadata": {},
   "outputs": [
    {
     "name": "stdout",
     "output_type": "stream",
     "text": [
      "1441347076624\n",
      "x 1441347076624\n"
     ]
    }
   ],
   "source": [
    "z=10\n",
    "print(id(z))\n",
    "addno(z)"
   ]
  },
  {
   "cell_type": "code",
   "execution_count": 44,
   "id": "6d0752ac",
   "metadata": {},
   "outputs": [],
   "source": [
    "x=10\n",
    "y=x"
   ]
  },
  {
   "cell_type": "code",
   "execution_count": 45,
   "id": "4e274344",
   "metadata": {},
   "outputs": [],
   "source": [
    "def addno(x,y):\n",
    "    print(x+y)"
   ]
  },
  {
   "cell_type": "code",
   "execution_count": 49,
   "id": "b3503b54",
   "metadata": {},
   "outputs": [
    {
     "name": "stdout",
     "output_type": "stream",
     "text": [
      "900\n"
     ]
    }
   ],
   "source": [
    "addno(400,500)"
   ]
  },
  {
   "cell_type": "code",
   "execution_count": 59,
   "id": "2617600a",
   "metadata": {},
   "outputs": [],
   "source": [
    "def func():\n",
    "    return 20"
   ]
  },
  {
   "cell_type": "code",
   "execution_count": 60,
   "id": "10eb60dc",
   "metadata": {},
   "outputs": [
    {
     "name": "stdout",
     "output_type": "stream",
     "text": [
      "20\n"
     ]
    }
   ],
   "source": [
    "x=func()\n",
    "print(x)"
   ]
  },
  {
   "cell_type": "code",
   "execution_count": 63,
   "id": "83272c56",
   "metadata": {},
   "outputs": [
    {
     "name": "stdout",
     "output_type": "stream",
     "text": [
      "20\n",
      "10\n"
     ]
    }
   ],
   "source": [
    "def  func():\n",
    "    print(20)\n",
    "    return 10\n",
    "\n",
    "x=func()\n",
    "print(x)"
   ]
  },
  {
   "cell_type": "code",
   "execution_count": 67,
   "id": "c527b709",
   "metadata": {},
   "outputs": [
    {
     "name": "stdout",
     "output_type": "stream",
     "text": [
      "hey\n",
      "30\n",
      "None\n"
     ]
    }
   ],
   "source": [
    "def test(x,y):\n",
    "    print(\"hey\")\n",
    "    print(x+y)\n",
    "    \n",
    "# call => test(10,20)\n",
    "out=test(10,20)\n",
    "print(out)"
   ]
  },
  {
   "cell_type": "code",
   "execution_count": 69,
   "id": "28c0a5b0",
   "metadata": {},
   "outputs": [
    {
     "name": "stdout",
     "output_type": "stream",
     "text": [
      "60\n",
      "-40\n",
      "0.016666666666666666\n"
     ]
    }
   ],
   "source": [
    "def fun(x,y,z):\n",
    "    print(x+y+z)\n",
    "    print(x-y-z)\n",
    "    print(x/y/z)\n",
    "    \n",
    "fun(10,20,30)"
   ]
  },
  {
   "cell_type": "code",
   "execution_count": 70,
   "id": "62e86a7d",
   "metadata": {},
   "outputs": [],
   "source": [
    "# func => input   "
   ]
  },
  {
   "cell_type": "code",
   "execution_count": 74,
   "id": "3a025eac",
   "metadata": {},
   "outputs": [],
   "source": [
    "# local variable\n",
    "def  func(n):\n",
    "    print(\"n value is\",n)"
   ]
  },
  {
   "cell_type": "code",
   "execution_count": 75,
   "id": "87de1c77",
   "metadata": {},
   "outputs": [
    {
     "name": "stdout",
     "output_type": "stream",
     "text": [
      "n value is 10\n"
     ]
    },
    {
     "ename": "NameError",
     "evalue": "name 'n' is not defined",
     "output_type": "error",
     "traceback": [
      "\u001b[1;31m---------------------------------------------------------------------------\u001b[0m",
      "\u001b[1;31mNameError\u001b[0m                                 Traceback (most recent call last)",
      "Cell \u001b[1;32mIn[75], line 3\u001b[0m\n\u001b[0;32m      1\u001b[0m x\u001b[38;5;241m=\u001b[39m\u001b[38;5;241m10\u001b[39m\n\u001b[0;32m      2\u001b[0m func(x)\n\u001b[1;32m----> 3\u001b[0m \u001b[38;5;28mprint\u001b[39m(\u001b[38;5;124m\"\u001b[39m\u001b[38;5;124moutside func\u001b[39m\u001b[38;5;124m\"\u001b[39m,\u001b[43mn\u001b[49m)\n",
      "\u001b[1;31mNameError\u001b[0m: name 'n' is not defined"
     ]
    }
   ],
   "source": [
    "x=10\n",
    "func(x)\n",
    "print(\"outside func\",n)"
   ]
  },
  {
   "cell_type": "code",
   "execution_count": 76,
   "id": "8b4f2dc3",
   "metadata": {},
   "outputs": [],
   "source": [
    "del x"
   ]
  },
  {
   "cell_type": "code",
   "execution_count": 78,
   "id": "a1a41812",
   "metadata": {},
   "outputs": [
    {
     "name": "stdout",
     "output_type": "stream",
     "text": [
      "20\n"
     ]
    }
   ],
   "source": [
    "def  func(x):\n",
    "    x=x+10       # x=20+10\n",
    " \n",
    "\n",
    "x=20\n",
    "func(x)    #function call\n",
    "print(x)"
   ]
  },
  {
   "cell_type": "code",
   "execution_count": null,
   "id": "1438ac73",
   "metadata": {},
   "outputs": [],
   "source": []
  },
  {
   "cell_type": "code",
   "execution_count": 79,
   "id": "c25a1090",
   "metadata": {},
   "outputs": [],
   "source": [
    "# swapping a number\n",
    "# method 1, 2"
   ]
  },
  {
   "cell_type": "code",
   "execution_count": 80,
   "id": "61e2f521",
   "metadata": {},
   "outputs": [],
   "source": [
    "x=10\n",
    "y=20\n",
    "\n",
    "x,y=y,x"
   ]
  },
  {
   "cell_type": "code",
   "execution_count": 83,
   "id": "527d3be5",
   "metadata": {},
   "outputs": [
    {
     "name": "stdout",
     "output_type": "stream",
     "text": [
      "10\n"
     ]
    }
   ],
   "source": [
    "print(y)"
   ]
  },
  {
   "cell_type": "code",
   "execution_count": 87,
   "id": "04858c98",
   "metadata": {},
   "outputs": [
    {
     "name": "stdout",
     "output_type": "stream",
     "text": [
      "Before func 10 20\n",
      "Inside function 20 10\n",
      "After func 10 20\n"
     ]
    }
   ],
   "source": [
    "def swapnumber(num1, num2):\n",
    "    temp=num1\n",
    "    num1=num2\n",
    "    num2=temp\n",
    "    print(\"Inside function\",num1, num2)\n",
    "    \n",
    "#outside functions\n",
    "num1=10\n",
    "num2=20\n",
    "print(\"Before func\", num1, num2)\n",
    "swapnumber(10,20)\n",
    "print(\"After func\", num1, num2)"
   ]
  },
  {
   "cell_type": "code",
   "execution_count": null,
   "id": "006eafb0",
   "metadata": {},
   "outputs": [],
   "source": [
    "num1=10\n",
    "num2=20\n",
    "print(\"Before func\", num1, num2)\n"
   ]
  }
 ],
 "metadata": {
  "kernelspec": {
   "display_name": "Python 3 (ipykernel)",
   "language": "python",
   "name": "python3"
  },
  "language_info": {
   "codemirror_mode": {
    "name": "ipython",
    "version": 3
   },
   "file_extension": ".py",
   "mimetype": "text/x-python",
   "name": "python",
   "nbconvert_exporter": "python",
   "pygments_lexer": "ipython3",
   "version": "3.10.11"
  }
 },
 "nbformat": 4,
 "nbformat_minor": 5
}
