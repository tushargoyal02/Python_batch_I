{
 "cells": [
  {
   "cell_type": "code",
   "execution_count": 9,
   "id": "fa609617",
   "metadata": {},
   "outputs": [],
   "source": [
    "class House:\n",
    "    def __init__(self,color):\n",
    "        self.color=color\n",
    "        \n",
    "    def info(self):\n",
    "        print(\"Color is:\",self.color)\n",
    "        "
   ]
  },
  {
   "cell_type": "code",
   "execution_count": 10,
   "id": "d136a8fb",
   "metadata": {},
   "outputs": [
    {
     "name": "stdout",
     "output_type": "stream",
     "text": [
      "Color is: yellow\n"
     ]
    }
   ],
   "source": [
    "h1=House(\"yellow\")\n",
    "h1.info()"
   ]
  },
  {
   "cell_type": "code",
   "execution_count": 5,
   "id": "1ffd9748",
   "metadata": {},
   "outputs": [
    {
     "data": {
      "text/plain": [
       "'white'"
      ]
     },
     "execution_count": 5,
     "metadata": {},
     "output_type": "execute_result"
    }
   ],
   "source": [
    "h2=House(\"white\")\n",
    "h2.color"
   ]
  },
  {
   "cell_type": "code",
   "execution_count": 12,
   "id": "45920d87",
   "metadata": {},
   "outputs": [],
   "source": [
    "class House:\n",
    "    #class variable\n",
    "    age=10\n",
    "        \n",
    "    def __init__(self,color):\n",
    "        #color is instance variable ( object )\n",
    "        self.color=color\n",
    "        \n",
    "    def info(self):\n",
    "        print(\"Color is:\",self.color)"
   ]
  },
  {
   "cell_type": "code",
   "execution_count": 15,
   "id": "94ac78ef",
   "metadata": {},
   "outputs": [
    {
     "ename": "AttributeError",
     "evalue": "type object 'House' has no attribute 'color'",
     "output_type": "error",
     "traceback": [
      "\u001b[1;31m---------------------------------------------------------------------------\u001b[0m",
      "\u001b[1;31mAttributeError\u001b[0m                            Traceback (most recent call last)",
      "Cell \u001b[1;32mIn[15], line 1\u001b[0m\n\u001b[1;32m----> 1\u001b[0m \u001b[43mHouse\u001b[49m\u001b[38;5;241;43m.\u001b[39;49m\u001b[43mcolor\u001b[49m\n",
      "\u001b[1;31mAttributeError\u001b[0m: type object 'House' has no attribute 'color'"
     ]
    }
   ],
   "source": [
    "House."
   ]
  },
  {
   "cell_type": "code",
   "execution_count": 16,
   "id": "efd9d074",
   "metadata": {},
   "outputs": [
    {
     "data": {
      "text/plain": [
       "10"
      ]
     },
     "execution_count": 16,
     "metadata": {},
     "output_type": "execute_result"
    }
   ],
   "source": [
    "h1=House(\"white\")\n",
    "h1.age"
   ]
  },
  {
   "cell_type": "code",
   "execution_count": 17,
   "id": "ff0b25fd",
   "metadata": {},
   "outputs": [],
   "source": [
    "# OOPS concepts\n",
    "# OOPS : \n",
    "# INHERITENCE\n",
    "# POLYMORPHISM\n",
    "# ABSTRACTION\n",
    "# DATA HIDING\n",
    "# ENCAPSULATION\n",
    "\n",
    "\n"
   ]
  },
  {
   "cell_type": "code",
   "execution_count": 18,
   "id": "97410545",
   "metadata": {},
   "outputs": [],
   "source": [
    "# inheritance\n",
    "# 4 lakh\n",
    "# parent class ( variable, method, property)\n",
    "# child class"
   ]
  },
  {
   "cell_type": "code",
   "execution_count": 19,
   "id": "9147c929",
   "metadata": {},
   "outputs": [],
   "source": [
    "class Parent:\n",
    "    salary=100"
   ]
  },
  {
   "cell_type": "code",
   "execution_count": 23,
   "id": "efcae7e7",
   "metadata": {},
   "outputs": [
    {
     "data": {
      "text/plain": [
       "100"
      ]
     },
     "execution_count": 23,
     "metadata": {},
     "output_type": "execute_result"
    }
   ],
   "source": [
    "# relationship\n",
    "class Child(Parent):\n",
    "    amount=500\n",
    "    \n",
    "c1=Child()\n",
    "c1.salary"
   ]
  },
  {
   "cell_type": "code",
   "execution_count": 49,
   "id": "ff48a4e0",
   "metadata": {},
   "outputs": [],
   "source": [
    "class Driver:\n",
    "    def __init__(self,name,email,wallet):\n",
    "        self.name=name\n",
    "        self.email=email\n",
    "        self.wallet=wallet\n",
    "        \n",
    "    def request(self):\n",
    "        print(\"Information is xyz\",self.name, self.email, self.wallet)\n",
    "        "
   ]
  },
  {
   "cell_type": "code",
   "execution_count": 50,
   "id": "75b9ca92",
   "metadata": {},
   "outputs": [
    {
     "name": "stdout",
     "output_type": "stream",
     "text": [
      "Information is xyz aman amagmail.com 900\n"
     ]
    }
   ],
   "source": [
    "#\n",
    "class Customer(Driver):\n",
    "    def __init__(self,name,email,wallet):\n",
    "        super().__init__(name, email,wallet)\n",
    "        \n",
    "    def info(self):\n",
    "        super().request()\n",
    "        \n",
    "c1=Customer(\"aman\",\"amagmail.com\",900)\n",
    "c1.info()"
   ]
  },
  {
   "cell_type": "code",
   "execution_count": null,
   "id": "83589a14",
   "metadata": {},
   "outputs": [],
   "source": [
    "e1=Customer(\"aman\",\"aman@gmail.com\",900)\n",
    "e1.wallet"
   ]
  },
  {
   "cell_type": "code",
   "execution_count": 33,
   "id": "75fa325c",
   "metadata": {},
   "outputs": [
    {
     "name": "stdout",
     "output_type": "stream",
     "text": [
      "Information is tushar tushar@gmail.com 300\n"
     ]
    }
   ],
   "source": [
    "d1=Driver(\"tushar\",\"tushar@gmail.com\",300)\n",
    "d1.request()"
   ]
  },
  {
   "cell_type": "code",
   "execution_count": 67,
   "id": "73636466",
   "metadata": {},
   "outputs": [],
   "source": [
    "class GrandFather:\n",
    "    def ginfo(self):\n",
    "        print(\"this is grandfather class\")"
   ]
  },
  {
   "cell_type": "code",
   "execution_count": 68,
   "id": "358d9014",
   "metadata": {},
   "outputs": [],
   "source": [
    "class Father(GrandFather):\n",
    "    def info(self):\n",
    "        \n",
    "        print(\"this is father class\")"
   ]
  },
  {
   "cell_type": "code",
   "execution_count": 69,
   "id": "575164a2",
   "metadata": {},
   "outputs": [],
   "source": [
    "class Son(Father):\n",
    "    def userinfo(self):\n",
    "        print(\"this is son class\")"
   ]
  },
  {
   "cell_type": "code",
   "execution_count": 72,
   "id": "edeaceb4",
   "metadata": {},
   "outputs": [
    {
     "name": "stdout",
     "output_type": "stream",
     "text": [
      "this is grandfather class\n"
     ]
    }
   ],
   "source": [
    "s1=Son()\n",
    "s1.ginfo()"
   ]
  },
  {
   "cell_type": "code",
   "execution_count": null,
   "id": "c4f16207",
   "metadata": {},
   "outputs": [],
   "source": [
    "# multi inheritence\n",
    "# polymorphism\n",
    "# method overloading and over ridding\n",
    "# method overidding and operator overloading is supported for poly"
   ]
  }
 ],
 "metadata": {
  "kernelspec": {
   "display_name": "Python 3 (ipykernel)",
   "language": "python",
   "name": "python3"
  },
  "language_info": {
   "codemirror_mode": {
    "name": "ipython",
    "version": 3
   },
   "file_extension": ".py",
   "mimetype": "text/x-python",
   "name": "python",
   "nbconvert_exporter": "python",
   "pygments_lexer": "ipython3",
   "version": "3.10.11"
  }
 },
 "nbformat": 4,
 "nbformat_minor": 5
}
