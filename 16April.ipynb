{
 "cells": [
  {
   "cell_type": "code",
   "execution_count": 1,
   "id": "0f959ec8",
   "metadata": {},
   "outputs": [],
   "source": [
    "# file handling : read & write\n",
    "#"
   ]
  },
  {
   "cell_type": "code",
   "execution_count": 2,
   "id": "a4f4888d",
   "metadata": {},
   "outputs": [
    {
     "name": "stdout",
     "output_type": "stream",
     "text": [
      "hello\n"
     ]
    }
   ],
   "source": [
    "print(\"hello\")"
   ]
  },
  {
   "cell_type": "code",
   "execution_count": 3,
   "id": "a1720e88",
   "metadata": {},
   "outputs": [],
   "source": [
    "# file store\n",
    "# file store\n",
    "# read , write,modify\n",
    "#"
   ]
  },
  {
   "cell_type": "code",
   "execution_count": 5,
   "id": "b78f882d",
   "metadata": {},
   "outputs": [],
   "source": [
    "\n",
    "# fileobj = open(filename,  access modifier)\n",
    "# read / write\n",
    "# fileobj.close()"
   ]
  },
  {
   "cell_type": "code",
   "execution_count": 6,
   "id": "8ae45cab",
   "metadata": {},
   "outputs": [],
   "source": [
    "filex = open(\"data.txt\",\"r\")\n",
    "\n",
    "# r,  rb, rb+, r+\n",
    "#w , w+, wb, wb+\n",
    "# a\n",
    "# x"
   ]
  },
  {
   "cell_type": "code",
   "execution_count": 11,
   "id": "5a4a714f",
   "metadata": {},
   "outputs": [],
   "source": [
    "filex1= open(r\"C:\\Users\\admin\\Desktop\\DataScience\\march_python\\data.txt\",\"r\")"
   ]
  },
  {
   "cell_type": "code",
   "execution_count": 12,
   "id": "fb0225f6",
   "metadata": {},
   "outputs": [
    {
     "data": {
      "text/plain": [
       "'hey tushar'"
      ]
     },
     "execution_count": 12,
     "metadata": {},
     "output_type": "execute_result"
    }
   ],
   "source": [
    "filex.read()"
   ]
  },
  {
   "cell_type": "code",
   "execution_count": 13,
   "id": "7637532d",
   "metadata": {},
   "outputs": [
    {
     "data": {
      "text/plain": [
       "'hey tushar'"
      ]
     },
     "execution_count": 13,
     "metadata": {},
     "output_type": "execute_result"
    }
   ],
   "source": [
    "filex1.read()"
   ]
  },
  {
   "cell_type": "code",
   "execution_count": 16,
   "id": "30acf855",
   "metadata": {},
   "outputs": [
    {
     "name": "stdout",
     "output_type": "stream",
     "text": [
      "hey tushar welcome\n"
     ]
    }
   ],
   "source": [
    "filex = open(\"data.txt\",\"r\")\n",
    "output = filex.read()\n",
    "filex.close()\n",
    "\n",
    "print(output)"
   ]
  },
  {
   "cell_type": "code",
   "execution_count": 19,
   "id": "d9aacc22",
   "metadata": {},
   "outputs": [],
   "source": [
    "filex = open(\"data.txt\",\"w\")\n",
    "filex.write(\"#\")\n",
    "filex.close()\n",
    "\n"
   ]
  },
  {
   "cell_type": "code",
   "execution_count": 21,
   "id": "c96d26a7",
   "metadata": {},
   "outputs": [
    {
     "name": "stdout",
     "output_type": "stream",
     "text": [
      "hello tushar\n"
     ]
    }
   ],
   "source": [
    "filex = open(\"data.txt\",\"r+\")\n",
    "x1=filex.read()\n",
    "filex.write(\"###\")\n",
    "filex.close()\n",
    "\n",
    "print(x1)"
   ]
  },
  {
   "cell_type": "code",
   "execution_count": 23,
   "id": "05e06502",
   "metadata": {},
   "outputs": [
    {
     "name": "stdout",
     "output_type": "stream",
     "text": [
      "llo tushar###\n"
     ]
    }
   ],
   "source": [
    "filex = open(\"data.txt\",\"r+\")\n",
    "\n",
    "filex.write(\"$$\")\n",
    "x1=filex.read()\n",
    "\n",
    "filex.close()\n",
    "\n",
    "print(x1)"
   ]
  },
  {
   "cell_type": "code",
   "execution_count": 26,
   "id": "fc3a1f3d",
   "metadata": {},
   "outputs": [
    {
     "name": "stdout",
     "output_type": "stream",
     "text": [
      "\n"
     ]
    }
   ],
   "source": [
    "filex = open(\"data1.txt\",\"w+\")\n",
    "\n",
    "\n",
    "\n",
    "filex.write(\"joker\")\n",
    "x1=filex.read()\n",
    "filex.close()\n",
    "\n",
    "print(x1)"
   ]
  },
  {
   "cell_type": "code",
   "execution_count": 30,
   "id": "444d3abd",
   "metadata": {},
   "outputs": [
    {
     "name": "stdout",
     "output_type": "stream",
     "text": [
      "\n"
     ]
    }
   ],
   "source": [
    "filex = open(\"data2.txt\",\"a+\")\n",
    "\n",
    "x1=filex.read()\n",
    "filex.write(\"abc\")\n",
    "\n",
    "filex.close()\n",
    "\n",
    "print(x1)"
   ]
  },
  {
   "cell_type": "code",
   "execution_count": 33,
   "id": "50448ab8",
   "metadata": {},
   "outputs": [
    {
     "ename": "FileExistsError",
     "evalue": "[Errno 17] File exists: 'data3.txt'",
     "output_type": "error",
     "traceback": [
      "\u001b[1;31m---------------------------------------------------------------------------\u001b[0m",
      "\u001b[1;31mFileExistsError\u001b[0m                           Traceback (most recent call last)",
      "Cell \u001b[1;32mIn[33], line 1\u001b[0m\n\u001b[1;32m----> 1\u001b[0m filex \u001b[38;5;241m=\u001b[39m \u001b[38;5;28;43mopen\u001b[39;49m\u001b[43m(\u001b[49m\u001b[38;5;124;43m\"\u001b[39;49m\u001b[38;5;124;43mdata3.txt\u001b[39;49m\u001b[38;5;124;43m\"\u001b[39;49m\u001b[43m,\u001b[49m\u001b[38;5;124;43m\"\u001b[39;49m\u001b[38;5;124;43mx\u001b[39;49m\u001b[38;5;124;43m\"\u001b[39;49m\u001b[43m)\u001b[49m\n\u001b[0;32m      2\u001b[0m filex\u001b[38;5;241m.\u001b[39mclose()\n",
      "File \u001b[1;32m~\\AppData\\Local\\Programs\\Python\\Python310\\lib\\site-packages\\IPython\\core\\interactiveshell.py:284\u001b[0m, in \u001b[0;36m_modified_open\u001b[1;34m(file, *args, **kwargs)\u001b[0m\n\u001b[0;32m    277\u001b[0m \u001b[38;5;28;01mif\u001b[39;00m file \u001b[38;5;129;01min\u001b[39;00m {\u001b[38;5;241m0\u001b[39m, \u001b[38;5;241m1\u001b[39m, \u001b[38;5;241m2\u001b[39m}:\n\u001b[0;32m    278\u001b[0m     \u001b[38;5;28;01mraise\u001b[39;00m \u001b[38;5;167;01mValueError\u001b[39;00m(\n\u001b[0;32m    279\u001b[0m         \u001b[38;5;124mf\u001b[39m\u001b[38;5;124m\"\u001b[39m\u001b[38;5;124mIPython won\u001b[39m\u001b[38;5;124m'\u001b[39m\u001b[38;5;124mt let you open fd=\u001b[39m\u001b[38;5;132;01m{\u001b[39;00mfile\u001b[38;5;132;01m}\u001b[39;00m\u001b[38;5;124m by default \u001b[39m\u001b[38;5;124m\"\u001b[39m\n\u001b[0;32m    280\u001b[0m         \u001b[38;5;124m\"\u001b[39m\u001b[38;5;124mas it is likely to crash IPython. If you know what you are doing, \u001b[39m\u001b[38;5;124m\"\u001b[39m\n\u001b[0;32m    281\u001b[0m         \u001b[38;5;124m\"\u001b[39m\u001b[38;5;124myou can use builtins\u001b[39m\u001b[38;5;124m'\u001b[39m\u001b[38;5;124m open.\u001b[39m\u001b[38;5;124m\"\u001b[39m\n\u001b[0;32m    282\u001b[0m     )\n\u001b[1;32m--> 284\u001b[0m \u001b[38;5;28;01mreturn\u001b[39;00m io_open(file, \u001b[38;5;241m*\u001b[39margs, \u001b[38;5;241m*\u001b[39m\u001b[38;5;241m*\u001b[39mkwargs)\n",
      "\u001b[1;31mFileExistsError\u001b[0m: [Errno 17] File exists: 'data3.txt'"
     ]
    }
   ],
   "source": [
    "filex = open(\"data3.txt\",\"x\")\n",
    "filex.close()\n"
   ]
  },
  {
   "cell_type": "code",
   "execution_count": 35,
   "id": "03674418",
   "metadata": {},
   "outputs": [],
   "source": [
    "# fileobj   = open(file, access modifier)\n",
    "# fileobj.close()"
   ]
  },
  {
   "cell_type": "code",
   "execution_count": 36,
   "id": "16933955",
   "metadata": {},
   "outputs": [
    {
     "name": "stdout",
     "output_type": "stream",
     "text": [
      "jokerabcabc\n"
     ]
    }
   ],
   "source": [
    "with open(\"data.txt\",\"r\") as filex:\n",
    "    print(  filex.read() )"
   ]
  },
  {
   "cell_type": "code",
   "execution_count": 38,
   "id": "0238eb7c",
   "metadata": {},
   "outputs": [
    {
     "name": "stdout",
     "output_type": "stream",
     "text": [
      "jokerabcabc\n",
      "hey\n",
      "helea\n",
      "dsf\n",
      "asdf\n",
      "###\n",
      "\n"
     ]
    }
   ],
   "source": [
    "filex = open(\"data.txt\",\"r\")\n",
    "\n",
    "x1=filex.read()\n",
    "\n",
    "filex.close()\n",
    "\n",
    "print(x1)"
   ]
  },
  {
   "cell_type": "code",
   "execution_count": 48,
   "id": "4915cf4e",
   "metadata": {},
   "outputs": [
    {
     "name": "stdout",
     "output_type": "stream",
     "text": [
      "jokerabcabc\n",
      "\n",
      "hey\n",
      "\n",
      "helea\n",
      "\n"
     ]
    }
   ],
   "source": [
    "with open(\"data.txt\",\"r\") as filex:\n",
    "    print( filex.readline()  )\n",
    "    print( filex.readline()  )\n",
    "    print( filex.readline()  )\n",
    "\n"
   ]
  },
  {
   "cell_type": "code",
   "execution_count": null,
   "id": "04b6b2e2",
   "metadata": {},
   "outputs": [],
   "source": []
  },
  {
   "cell_type": "code",
   "execution_count": 64,
   "id": "7ce6d5b1",
   "metadata": {},
   "outputs": [
    {
     "name": "stdout",
     "output_type": "stream",
     "text": [
      "['joker abcabc\\n', 'hey tushar\\n', 'hello aman\\n', 'dsf ujjwal\\n', 'asdf killer\\n']\n"
     ]
    }
   ],
   "source": [
    "with open(\"data.txt\",\"r\") as filex:\n",
    "    x2=filex.readlines()\n",
    "    \n",
    "print(x2)\n"
   ]
  },
  {
   "cell_type": "code",
   "execution_count": 65,
   "id": "f84813d5",
   "metadata": {},
   "outputs": [
    {
     "data": {
      "text/plain": [
       "['joker ', 'bc', 'bc']"
      ]
     },
     "execution_count": 65,
     "metadata": {},
     "output_type": "execute_result"
    }
   ],
   "source": [
    "'joker abcabc'.split(\"a\")"
   ]
  },
  {
   "cell_type": "code",
   "execution_count": 69,
   "id": "20168a0f",
   "metadata": {},
   "outputs": [
    {
     "name": "stdout",
     "output_type": "stream",
     "text": [
      "['joker abcabc\\n', 'hey tushar\\n', 'hello aman\\n', 'dsf ujjwal\\n', 'asdf killer\\n']\n",
      "joker abcabc\n",
      "\n",
      "hey tushar\n",
      "\n",
      "hello aman\n",
      "\n",
      "dsf ujjwal\n",
      "\n",
      "asdf killer\n",
      "\n"
     ]
    }
   ],
   "source": [
    "with open(\"data.txt\",\"r\") as filex:\n",
    "    x2=filex.readlines()\n",
    "    \n",
    "print(x2)\n",
    "\n",
    "\n",
    "# list unpacking\n",
    "for  data in x2:\n",
    "    num1,num2=data.split(\" \")\n",
    "    print(num1, num2)"
   ]
  },
  {
   "cell_type": "code",
   "execution_count": 70,
   "id": "20fbe9dc",
   "metadata": {},
   "outputs": [],
   "source": [
    "# list comphrenshion\n"
   ]
  },
  {
   "cell_type": "code",
   "execution_count": 72,
   "id": "8ac11785",
   "metadata": {},
   "outputs": [
    {
     "name": "stdout",
     "output_type": "stream",
     "text": [
      "[100, 225, 400]\n"
     ]
    }
   ],
   "source": [
    "list1=[10,15,20]\n",
    "newlist=[]\n",
    "for i in list1:\n",
    "    newlist.append(i**2)\n",
    "    \n",
    "print(newlist)"
   ]
  },
  {
   "cell_type": "code",
   "execution_count": 77,
   "id": "8e487632",
   "metadata": {},
   "outputs": [
    {
     "name": "stdout",
     "output_type": "stream",
     "text": [
      "[100, 400]\n"
     ]
    }
   ],
   "source": [
    "list1=[10,15,20]\n",
    "newlist2=[i**2 for i in list1 if i%2==0]\n",
    "\n",
    "print(newlist2)"
   ]
  },
  {
   "cell_type": "code",
   "execution_count": 79,
   "id": "a156b0a3",
   "metadata": {},
   "outputs": [
    {
     "name": "stdout",
     "output_type": "stream",
     "text": [
      "[[10, 11, 12, 13], [10, 11, 12, 13], [10, 11, 12, 13]]\n"
     ]
    }
   ],
   "source": [
    "# [ [10,11,12,13],[10,11,12,13],[10,11,12,13]  ]\n",
    "# [ [] ]\n",
    "\n",
    "list1=[]\n",
    "for i in range(3):\n",
    "    list1.append([])\n",
    "    \n",
    "    for j in range(10,14):\n",
    "        list1[i].append(j)\n",
    "    \n",
    "print(list1)\n"
   ]
  },
  {
   "cell_type": "code",
   "execution_count": 85,
   "id": "a1c8d559",
   "metadata": {},
   "outputs": [
    {
     "data": {
      "text/plain": [
       "[[10, 11, 12, 13], [10, 11, 12, 13], [10, 11, 12, 13]]"
      ]
     },
     "execution_count": 85,
     "metadata": {},
     "output_type": "execute_result"
    }
   ],
   "source": [
    "[ [j for j in range(10,14)] for i in range(3) ]"
   ]
  },
  {
   "cell_type": "code",
   "execution_count": null,
   "id": "7991a5e8",
   "metadata": {},
   "outputs": [],
   "source": []
  }
 ],
 "metadata": {
  "kernelspec": {
   "display_name": "Python 3 (ipykernel)",
   "language": "python",
   "name": "python3"
  },
  "language_info": {
   "codemirror_mode": {
    "name": "ipython",
    "version": 3
   },
   "file_extension": ".py",
   "mimetype": "text/x-python",
   "name": "python",
   "nbconvert_exporter": "python",
   "pygments_lexer": "ipython3",
   "version": "3.10.11"
  }
 },
 "nbformat": 4,
 "nbformat_minor": 5
}
