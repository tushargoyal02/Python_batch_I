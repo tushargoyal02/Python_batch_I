{
 "cells": [
  {
   "cell_type": "code",
   "execution_count": 1,
   "id": "482803f3",
   "metadata": {},
   "outputs": [],
   "source": [
    "# Python list"
   ]
  },
  {
   "cell_type": "code",
   "execution_count": 2,
   "id": "ecaf623c",
   "metadata": {},
   "outputs": [],
   "source": [
    "# tuple\n"
   ]
  },
  {
   "cell_type": "code",
   "execution_count": 7,
   "id": "8fcc1a21",
   "metadata": {},
   "outputs": [
    {
     "name": "stdout",
     "output_type": "stream",
     "text": [
      "<class 'tuple'>\n"
     ]
    }
   ],
   "source": [
    "# collection of element  ( sequential data type)\n",
    "# immutable \n",
    "# call by object reference  ( change  )\n",
    "# ()   => optional\n",
    "\n",
    "x=10,20,\"Abc\",\"def\"\n",
    "print(type(x))"
   ]
  },
  {
   "cell_type": "code",
   "execution_count": 16,
   "id": "49638d35",
   "metadata": {},
   "outputs": [
    {
     "name": "stdout",
     "output_type": "stream",
     "text": [
      "<class 'tuple'>\n"
     ]
    }
   ],
   "source": [
    "# single element,\n",
    "x=10,\n",
    "print(type(x))"
   ]
  },
  {
   "cell_type": "code",
   "execution_count": 15,
   "id": "98d81988",
   "metadata": {},
   "outputs": [
    {
     "name": "stdout",
     "output_type": "stream",
     "text": [
      "10\n",
      "20\n",
      "30\n",
      "40\n"
     ]
    }
   ],
   "source": [
    "mytuple=(10,20,30,40)\n",
    "\n",
    "for i in mytuple:\n",
    "    print(i)"
   ]
  },
  {
   "cell_type": "code",
   "execution_count": 20,
   "id": "35dc91e2",
   "metadata": {},
   "outputs": [
    {
     "data": {
      "text/plain": [
       "(40, 30)"
      ]
     },
     "execution_count": 20,
     "metadata": {},
     "output_type": "execute_result"
    }
   ],
   "source": [
    "mytuple=(10,20,30,40)\n",
    "\n",
    "mytuple[-1:-3:-1]\n"
   ]
  },
  {
   "cell_type": "code",
   "execution_count": 22,
   "id": "3a1b0c5e",
   "metadata": {},
   "outputs": [
    {
     "data": {
      "text/plain": [
       "0"
      ]
     },
     "execution_count": 22,
     "metadata": {},
     "output_type": "execute_result"
    }
   ],
   "source": [
    "mytuple.count(3)"
   ]
  },
  {
   "cell_type": "code",
   "execution_count": 23,
   "id": "97097528",
   "metadata": {},
   "outputs": [],
   "source": [
    "mytuple=10,20,30"
   ]
  },
  {
   "cell_type": "code",
   "execution_count": 25,
   "id": "58dcb8c1",
   "metadata": {},
   "outputs": [
    {
     "name": "stdout",
     "output_type": "stream",
     "text": [
      "1230734409152\n"
     ]
    }
   ],
   "source": [
    "print(id(mytuple))"
   ]
  },
  {
   "cell_type": "code",
   "execution_count": 30,
   "id": "ce3e7ad0",
   "metadata": {},
   "outputs": [
    {
     "name": "stdout",
     "output_type": "stream",
     "text": [
      "1230734459504\n"
     ]
    }
   ],
   "source": [
    "mytuple=mytuple + (50,60)\n",
    "print( id(mytuple))"
   ]
  },
  {
   "cell_type": "code",
   "execution_count": 31,
   "id": "05e52125",
   "metadata": {},
   "outputs": [],
   "source": [
    "# list vs tuple\n",
    "# slower ( refer ) "
   ]
  },
  {
   "cell_type": "code",
   "execution_count": 32,
   "id": "36d85cc7",
   "metadata": {},
   "outputs": [],
   "source": [
    "# dictionary\n",
    "# collection of element but in form of key value pair\n",
    "# key => unique identifier\n",
    "# value  => unique / duplicate\n",
    "# ordered in nature  ( Python 3)\n",
    "# {}\n",
    "# no index position"
   ]
  },
  {
   "cell_type": "code",
   "execution_count": 42,
   "id": "00b21b10",
   "metadata": {},
   "outputs": [],
   "source": [
    "# 1:\"tushar\" => elemtn  ( 1=> key,  tushar => value)\n",
    "mydictionary = { 1:\"tushar\", 2:\"aman\", \"age\":50}"
   ]
  },
  {
   "cell_type": "code",
   "execution_count": 44,
   "id": "fe1a33d2",
   "metadata": {},
   "outputs": [
    {
     "data": {
      "text/plain": [
       "50"
      ]
     },
     "execution_count": 44,
     "metadata": {},
     "output_type": "execute_result"
    }
   ],
   "source": [
    "\n",
    "\n",
    "mydictionary[\"age\"]"
   ]
  },
  {
   "cell_type": "code",
   "execution_count": 47,
   "id": "ab1e2e94",
   "metadata": {},
   "outputs": [
    {
     "data": {
      "text/plain": [
       "{1: 'tushar', 2: 'aman', 'age': 50, 50: 'yash'}"
      ]
     },
     "execution_count": 47,
     "metadata": {},
     "output_type": "execute_result"
    }
   ],
   "source": [
    "#insert a new element\n",
    "mydictionary[50]=\"yash\"\n",
    "\n",
    "mydictionary"
   ]
  },
  {
   "cell_type": "code",
   "execution_count": 49,
   "id": "adb357d1",
   "metadata": {},
   "outputs": [
    {
     "data": {
      "text/plain": [
       "{1: 'tushar', 2: 'aman', 'age': 50, 50: 'yash', 'abc': 'tiger'}"
      ]
     },
     "execution_count": 49,
     "metadata": {},
     "output_type": "execute_result"
    }
   ],
   "source": [
    "mydictionary[\"abc\"]=\"tiger\"\n",
    "\n",
    "\n",
    "mydictionary"
   ]
  },
  {
   "cell_type": "code",
   "execution_count": 53,
   "id": "8c52629a",
   "metadata": {},
   "outputs": [
    {
     "name": "stdout",
     "output_type": "stream",
     "text": [
      "tiger\n"
     ]
    }
   ],
   "source": [
    "# mutuable\n",
    "\n",
    "x=mydictionary.pop(\"abc\")\n",
    "print(x)"
   ]
  },
  {
   "cell_type": "code",
   "execution_count": 55,
   "id": "d6cff739",
   "metadata": {},
   "outputs": [
    {
     "data": {
      "text/plain": [
       "{1: 'tushar', 2: 'aman', 50: 'yash'}"
      ]
     },
     "execution_count": 55,
     "metadata": {},
     "output_type": "execute_result"
    }
   ],
   "source": [
    "mydictionary"
   ]
  },
  {
   "cell_type": "code",
   "execution_count": 57,
   "id": "5df8a3ad",
   "metadata": {},
   "outputs": [
    {
     "data": {
      "text/plain": [
       "(50, 'yash')"
      ]
     },
     "execution_count": 57,
     "metadata": {},
     "output_type": "execute_result"
    }
   ],
   "source": [
    "mydictionary.popitem()"
   ]
  },
  {
   "cell_type": "code",
   "execution_count": 60,
   "id": "bacfa08c",
   "metadata": {},
   "outputs": [
    {
     "data": {
      "text/plain": [
       "dict_values(['tushar', 'aman'])"
      ]
     },
     "execution_count": 60,
     "metadata": {},
     "output_type": "execute_result"
    }
   ],
   "source": [
    "mydictionary.values()"
   ]
  },
  {
   "cell_type": "code",
   "execution_count": 63,
   "id": "89e56d93",
   "metadata": {},
   "outputs": [
    {
     "data": {
      "text/plain": [
       "dict_keys([1, 2])"
      ]
     },
     "execution_count": 63,
     "metadata": {},
     "output_type": "execute_result"
    }
   ],
   "source": [
    "mydictionary.keys()"
   ]
  },
  {
   "cell_type": "code",
   "execution_count": 65,
   "id": "2544ecd5",
   "metadata": {},
   "outputs": [
    {
     "data": {
      "text/plain": [
       "dict_items([(1, 'tushar'), (2, 'aman')])"
      ]
     },
     "execution_count": 65,
     "metadata": {},
     "output_type": "execute_result"
    }
   ],
   "source": [
    "mydictionary.items()"
   ]
  },
  {
   "cell_type": "code",
   "execution_count": 69,
   "id": "f2f9c15a",
   "metadata": {},
   "outputs": [
    {
     "data": {
      "text/plain": [
       "{1: 'aman', 2: 'goa'}"
      ]
     },
     "execution_count": 69,
     "metadata": {},
     "output_type": "execute_result"
    }
   ],
   "source": [
    "x=( (1,\"aman\"),(2,\"goa\"))\n",
    "dict(x)"
   ]
  },
  {
   "cell_type": "code",
   "execution_count": 71,
   "id": "34117531",
   "metadata": {},
   "outputs": [
    {
     "data": {
      "text/plain": [
       "{1: 'aman', 2: 'goa'}"
      ]
     },
     "execution_count": 71,
     "metadata": {},
     "output_type": "execute_result"
    }
   ],
   "source": [
    "x=[ (1,\"aman\"),(2,\"goa\") ]\n",
    "dict(x)"
   ]
  },
  {
   "cell_type": "code",
   "execution_count": 73,
   "id": "79eb5f8b",
   "metadata": {},
   "outputs": [],
   "source": [
    "mydictionary = { 1:\"tushar\", 2:\"aman\", \"age\":50}"
   ]
  },
  {
   "cell_type": "code",
   "execution_count": 74,
   "id": "4efb880e",
   "metadata": {},
   "outputs": [
    {
     "data": {
      "text/plain": [
       "{1: 'tushar', 2: 'aman', 'age': 50}"
      ]
     },
     "execution_count": 74,
     "metadata": {},
     "output_type": "execute_result"
    }
   ],
   "source": [
    "mydictionary"
   ]
  },
  {
   "cell_type": "code",
   "execution_count": 77,
   "id": "7fae94d6",
   "metadata": {},
   "outputs": [
    {
     "name": "stdout",
     "output_type": "stream",
     "text": [
      "1\n",
      "2\n",
      "age\n"
     ]
    }
   ],
   "source": [
    "# it gives the key\n",
    "for key in mydictionary:\n",
    "    print(key)"
   ]
  },
  {
   "cell_type": "code",
   "execution_count": 78,
   "id": "e8b2a038",
   "metadata": {},
   "outputs": [
    {
     "name": "stdout",
     "output_type": "stream",
     "text": [
      "1\n",
      "2\n",
      "age\n"
     ]
    }
   ],
   "source": [
    "for key in mydictionary.keys():\n",
    "    print(key)"
   ]
  },
  {
   "cell_type": "code",
   "execution_count": 80,
   "id": "4db66c10",
   "metadata": {},
   "outputs": [
    {
     "name": "stdout",
     "output_type": "stream",
     "text": [
      "1\n",
      "2\n",
      "age\n"
     ]
    }
   ],
   "source": [
    "for key in mydictionary.keys():\n",
    "    print(key)"
   ]
  },
  {
   "cell_type": "code",
   "execution_count": 83,
   "id": "2814c8c4",
   "metadata": {},
   "outputs": [
    {
     "name": "stdout",
     "output_type": "stream",
     "text": [
      "tushar\n",
      "aman\n",
      "50\n"
     ]
    },
    {
     "data": {
      "text/plain": [
       "{1: 'tushar', 2: 'aman', 'age': 50}"
      ]
     },
     "execution_count": 83,
     "metadata": {},
     "output_type": "execute_result"
    }
   ],
   "source": [
    "for value in mydictionary.values():\n",
    "    print(value)\n",
    "    \n",
    "mydictionary"
   ]
  },
  {
   "cell_type": "code",
   "execution_count": 87,
   "id": "050e0899",
   "metadata": {},
   "outputs": [
    {
     "name": "stdout",
     "output_type": "stream",
     "text": [
      "(10, 'naman')\n",
      "(20, 'abc')\n"
     ]
    }
   ],
   "source": [
    "x=[  (10,\"naman\") ,  (20,\"abc\") ]\n",
    "for i in x:\n",
    "    key,value=i"
   ]
  },
  {
   "cell_type": "code",
   "execution_count": 91,
   "id": "648d0471",
   "metadata": {},
   "outputs": [],
   "source": [
    "data=(10,\"tushar\")\n",
    "x=data[0]\n",
    "y=data[1]\n"
   ]
  },
  {
   "cell_type": "code",
   "execution_count": 97,
   "id": "41e3e84f",
   "metadata": {},
   "outputs": [
    {
     "name": "stdout",
     "output_type": "stream",
     "text": [
      "20\n"
     ]
    }
   ],
   "source": [
    "# tuple unpacking\n",
    "x,yy,z=(10,\"tushar\",20)\n",
    "print(z)"
   ]
  },
  {
   "cell_type": "code",
   "execution_count": 99,
   "id": "3c2d7862",
   "metadata": {},
   "outputs": [
    {
     "name": "stdout",
     "output_type": "stream",
     "text": [
      "10 naman\n",
      "20 abc\n"
     ]
    }
   ],
   "source": [
    "x=[  (10,\"naman\") ,  (20,\"abc\") ]\n",
    "for i in x:\n",
    "    key,value=i\n",
    "    print(key,value)"
   ]
  },
  {
   "cell_type": "code",
   "execution_count": 103,
   "id": "553baa37",
   "metadata": {},
   "outputs": [
    {
     "name": "stdout",
     "output_type": "stream",
     "text": [
      "10 naman\n",
      "20 abc\n"
     ]
    }
   ],
   "source": [
    "x=[  (10,\"naman\") ,  (20,\"abc\") ]\n",
    "\n",
    "for tup in x:\n",
    "    key,value=tup\n",
    "    print(key,value)"
   ]
  },
  {
   "cell_type": "code",
   "execution_count": 105,
   "id": "d7a19c56",
   "metadata": {},
   "outputs": [
    {
     "name": "stdout",
     "output_type": "stream",
     "text": [
      "10 naman\n",
      "20 abc\n"
     ]
    }
   ],
   "source": [
    "x=[  (10,\"naman\") ,  (20,\"abc\") ]\n",
    "\n",
    "for key,value in x:\n",
    "    print(key,value)"
   ]
  },
  {
   "cell_type": "code",
   "execution_count": 109,
   "id": "77c04b7d",
   "metadata": {},
   "outputs": [
    {
     "data": {
      "text/plain": [
       "{1: 'tushar', 2: 'aman', 'age': 50}"
      ]
     },
     "execution_count": 109,
     "metadata": {},
     "output_type": "execute_result"
    }
   ],
   "source": [
    "mydictionary"
   ]
  },
  {
   "cell_type": "code",
   "execution_count": 112,
   "id": "e1ab2863",
   "metadata": {},
   "outputs": [
    {
     "name": "stdout",
     "output_type": "stream",
     "text": [
      "1\n",
      "2\n",
      "age\n"
     ]
    }
   ],
   "source": [
    "for key,value in mydictionary.items():\n",
    "    print(key)"
   ]
  },
  {
   "cell_type": "code",
   "execution_count": null,
   "id": "f2c513c0",
   "metadata": {},
   "outputs": [],
   "source": [
    "# armstrong number\n",
    "# 153\n",
    "#\n",
    "# 1**3 + 5**3   3**3\n",
    "# 1+125+27 => 153"
   ]
  }
 ],
 "metadata": {
  "kernelspec": {
   "display_name": "Python 3 (ipykernel)",
   "language": "python",
   "name": "python3"
  },
  "language_info": {
   "codemirror_mode": {
    "name": "ipython",
    "version": 3
   },
   "file_extension": ".py",
   "mimetype": "text/x-python",
   "name": "python",
   "nbconvert_exporter": "python",
   "pygments_lexer": "ipython3",
   "version": "3.10.11"
  }
 },
 "nbformat": 4,
 "nbformat_minor": 5
}
