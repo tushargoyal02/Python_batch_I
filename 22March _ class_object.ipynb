{
 "cells": [
  {
   "cell_type": "code",
   "execution_count": 1,
   "id": "aea7997e",
   "metadata": {},
   "outputs": [],
   "source": [
    "# Class & Objects\n",
    "\n",
    "#"
   ]
  },
  {
   "cell_type": "code",
   "execution_count": 2,
   "id": "40ad6813",
   "metadata": {},
   "outputs": [],
   "source": [
    "# class => template\n",
    "class Student:\n",
    "    sid=10\n",
    "    sname=\"tushar\""
   ]
  },
  {
   "cell_type": "code",
   "execution_count": 3,
   "id": "8dd2a482",
   "metadata": {},
   "outputs": [],
   "source": [
    "# object  => instance of a class\n",
    "std1=Student()"
   ]
  },
  {
   "cell_type": "code",
   "execution_count": null,
   "id": "c60353e0",
   "metadata": {},
   "outputs": [],
   "source": []
  },
  {
   "cell_type": "code",
   "execution_count": 4,
   "id": "b57562ae",
   "metadata": {},
   "outputs": [],
   "source": [
    "class House:\n",
    "    color=\"White\"\n",
    "    gate=\"Black\"\n",
    "    "
   ]
  },
  {
   "cell_type": "code",
   "execution_count": 7,
   "id": "b8908e4a",
   "metadata": {},
   "outputs": [
    {
     "data": {
      "text/plain": [
       "'Black'"
      ]
     },
     "execution_count": 7,
     "metadata": {},
     "output_type": "execute_result"
    }
   ],
   "source": [
    "h1=House()\n",
    "h1.color\n",
    "h1.gate"
   ]
  },
  {
   "cell_type": "code",
   "execution_count": 10,
   "id": "f3d175da",
   "metadata": {},
   "outputs": [
    {
     "data": {
      "text/plain": [
       "'White'"
      ]
     },
     "execution_count": 10,
     "metadata": {},
     "output_type": "execute_result"
    }
   ],
   "source": [
    "h2=House()\n",
    "h2.color"
   ]
  },
  {
   "cell_type": "code",
   "execution_count": 48,
   "id": "e55b4330",
   "metadata": {},
   "outputs": [],
   "source": [
    "# constructior => function => initalizae the object of a class\n",
    "# __init__\n",
    "\n",
    "class House:\n",
    "    def __init__(self,x):\n",
    "        self.color=x"
   ]
  },
  {
   "cell_type": "code",
   "execution_count": 49,
   "id": "0f7889c3",
   "metadata": {},
   "outputs": [
    {
     "data": {
      "text/plain": [
       "'orange'"
      ]
     },
     "execution_count": 49,
     "metadata": {},
     "output_type": "execute_result"
    }
   ],
   "source": [
    "\n",
    "h1=House(\"orange\")\n",
    "h1.color"
   ]
  },
  {
   "cell_type": "code",
   "execution_count": 51,
   "id": "da28ccc3",
   "metadata": {},
   "outputs": [
    {
     "data": {
      "text/plain": [
       "'green'"
      ]
     },
     "execution_count": 51,
     "metadata": {},
     "output_type": "execute_result"
    }
   ],
   "source": [
    "h2=House(\"green\")\n",
    "h2.color"
   ]
  },
  {
   "cell_type": "code",
   "execution_count": 53,
   "id": "eb04e476",
   "metadata": {},
   "outputs": [
    {
     "data": {
      "text/plain": [
       "'purple'"
      ]
     },
     "execution_count": 53,
     "metadata": {},
     "output_type": "execute_result"
    }
   ],
   "source": [
    "h3=House(\"purple\")\n",
    "h3.color"
   ]
  },
  {
   "cell_type": "code",
   "execution_count": null,
   "id": "87cbb764",
   "metadata": {},
   "outputs": [],
   "source": []
  }
 ],
 "metadata": {
  "kernelspec": {
   "display_name": "Python 3 (ipykernel)",
   "language": "python",
   "name": "python3"
  },
  "language_info": {
   "codemirror_mode": {
    "name": "ipython",
    "version": 3
   },
   "file_extension": ".py",
   "mimetype": "text/x-python",
   "name": "python",
   "nbconvert_exporter": "python",
   "pygments_lexer": "ipython3",
   "version": "3.10.11"
  }
 },
 "nbformat": 4,
 "nbformat_minor": 5
}
